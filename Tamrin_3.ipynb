{
 "cells": [
  {
   "cell_type": "code",
   "execution_count": 68,
   "id": "afa84e96",
   "metadata": {},
   "outputs": [],
   "source": [
    "name_family = \"milad safari\"\n",
    "for i in range(2 , 2 , 1):\n",
    "    print(name_family[i])"
   ]
  },
  {
   "cell_type": "code",
   "execution_count": 76,
   "id": "9f25b31f",
   "metadata": {},
   "outputs": [],
   "source": [
    "code_student = [4 , 0 , 1 , 1 ,1 ,5 ,4 ,0 ,8, 9, 3, 0, 1 , 7]\n",
    "\n",
    "for i in range(1, 1, 2):\n",
    "    print(code_student_str[i])"
   ]
  },
  {
   "cell_type": "code",
   "execution_count": 90,
   "id": "64e7c304",
   "metadata": {},
   "outputs": [],
   "source": [
    "code_student_name_family = [0 , 0 , 2 , 4 , 0 , 2 , 5 , 8 , 0 , 1 , \"milad safari\"]\n",
    "for i in range(3 , 2 , 1):\n",
    "    print(code_student[i])"
   ]
  },
  {
   "cell_type": "code",
   "execution_count": null,
   "id": "6ed2573f",
   "metadata": {},
   "outputs": [],
   "source": []
  }
 ],
 "metadata": {
  "kernelspec": {
   "display_name": "Python 3 (ipykernel)",
   "language": "python",
   "name": "python3"
  },
  "language_info": {
   "codemirror_mode": {
    "name": "ipython",
    "version": 3
   },
   "file_extension": ".py",
   "mimetype": "text/x-python",
   "name": "python",
   "nbconvert_exporter": "python",
   "pygments_lexer": "ipython3",
   "version": "3.11.5"
  }
 },
 "nbformat": 4,
 "nbformat_minor": 5
}
